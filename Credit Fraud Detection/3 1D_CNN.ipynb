{
  "nbformat": 4,
  "nbformat_minor": 0,
  "metadata": {
    "colab": {
      "name": "1D-CNN(updated).ipynb",
      "provenance": [],
      "collapsed_sections": []
    },
    "kernelspec": {
      "name": "python3",
      "display_name": "Python 3"
    }
  },
  "cells": [
    {
      "cell_type": "code",
      "metadata": {
        "colab": {
          "base_uri": "https://localhost:8080/"
        },
        "id": "mn_oF_zQgM3F",
        "outputId": "267a3bec-6334-4c6b-e84f-57cec7dc0fef"
      },
      "source": [
        "from google.colab import drive\n",
        "drive.mount('/content/drive')"
      ],
      "execution_count": 1,
      "outputs": [
        {
          "output_type": "stream",
          "text": [
            "Drive already mounted at /content/drive; to attempt to forcibly remount, call drive.mount(\"/content/drive\", force_remount=True).\n"
          ],
          "name": "stdout"
        }
      ]
    },
    {
      "cell_type": "code",
      "metadata": {
        "colab": {
          "base_uri": "https://localhost:8080/"
        },
        "id": "AtHn2I-fY-BH",
        "outputId": "e9a5bd9e-435d-4156-d36f-f46c05d4b2c6"
      },
      "source": [
        "pip install pathlib2"
      ],
      "execution_count": 2,
      "outputs": [
        {
          "output_type": "stream",
          "text": [
            "Collecting pathlib2\n",
            "  Downloading https://files.pythonhosted.org/packages/e9/45/9c82d3666af4ef9f221cbb954e1d77ddbb513faf552aea6df5f37f1a4859/pathlib2-2.3.5-py2.py3-none-any.whl\n",
            "Requirement already satisfied: six in /usr/local/lib/python3.6/dist-packages (from pathlib2) (1.15.0)\n",
            "Installing collected packages: pathlib2\n",
            "Successfully installed pathlib2-2.3.5\n"
          ],
          "name": "stdout"
        }
      ]
    },
    {
      "cell_type": "code",
      "metadata": {
        "id": "P4nYDopMZKj-"
      },
      "source": [
        "import pickle as pk\n",
        "import pandas as pd\n",
        "from pathlib2 import Path\n",
        "import numpy as np\n",
        "import os\n",
        "\n",
        "def pk_read(path):\n",
        "    with open(path, 'rb') as f:\n",
        "        D = pk.load(f,encoding='utf8')\n",
        "    return D"
      ],
      "execution_count": 3,
      "outputs": []
    },
    {
      "cell_type": "code",
      "metadata": {
        "id": "Zt4wC__jZNgU"
      },
      "source": [
        "#Load Data\n",
        "train=pk_read('/content/drive/MyDrive/WashU Deep Learning/Final Project/lc_loan_processed_binary.pk')"
      ],
      "execution_count": 4,
      "outputs": []
    },
    {
      "cell_type": "code",
      "metadata": {
        "id": "A-_SVDh2aJ3M"
      },
      "source": [
        "test=pk_read('/content/drive/MyDrive/WashU Deep Learning/Final Project/lc_2016_2017_processed_binary.pk')"
      ],
      "execution_count": 5,
      "outputs": []
    },
    {
      "cell_type": "code",
      "metadata": {
        "colab": {
          "base_uri": "https://localhost:8080/"
        },
        "id": "wmvb6fRrZqE5",
        "outputId": "71d457f7-ad44-492e-aeb2-9af1a011f346"
      },
      "source": [
        "# Train Test Split\n",
        "from sklearn.model_selection import train_test_split\n",
        "train, validation=train_test_split(train,train_size=0.9,stratify=train[\"loan_status\"])\n",
        "\n",
        "print(train.shape,validation.shape,test.shape)"
      ],
      "execution_count": 6,
      "outputs": [
        {
          "output_type": "stream",
          "text": [
            "(791024, 42) (87892, 42) (758834, 42)\n"
          ],
          "name": "stdout"
        }
      ]
    },
    {
      "cell_type": "code",
      "metadata": {
        "colab": {
          "base_uri": "https://localhost:8080/",
          "height": 224
        },
        "id": "WQFG7XI3w8jd",
        "outputId": "25d7aad4-36f6-4887-ee0c-dbff4a3b476f"
      },
      "source": [
        "train.head()"
      ],
      "execution_count": 7,
      "outputs": [
        {
          "output_type": "execute_result",
          "data": {
            "text/html": [
              "<div>\n",
              "<style scoped>\n",
              "    .dataframe tbody tr th:only-of-type {\n",
              "        vertical-align: middle;\n",
              "    }\n",
              "\n",
              "    .dataframe tbody tr th {\n",
              "        vertical-align: top;\n",
              "    }\n",
              "\n",
              "    .dataframe thead th {\n",
              "        text-align: right;\n",
              "    }\n",
              "</style>\n",
              "<table border=\"1\" class=\"dataframe\">\n",
              "  <thead>\n",
              "    <tr style=\"text-align: right;\">\n",
              "      <th></th>\n",
              "      <th>loan_amnt</th>\n",
              "      <th>funded_amnt</th>\n",
              "      <th>funded_amnt_inv</th>\n",
              "      <th>int_rate</th>\n",
              "      <th>installment</th>\n",
              "      <th>grade</th>\n",
              "      <th>sub_grade</th>\n",
              "      <th>emp_length</th>\n",
              "      <th>annual_inc</th>\n",
              "      <th>dti</th>\n",
              "      <th>delinq_2yrs</th>\n",
              "      <th>earliest_cr_line</th>\n",
              "      <th>inq_last_6mths</th>\n",
              "      <th>open_acc</th>\n",
              "      <th>pub_rec</th>\n",
              "      <th>revol_bal</th>\n",
              "      <th>revol_util</th>\n",
              "      <th>total_acc</th>\n",
              "      <th>initial_list_status</th>\n",
              "      <th>out_prncp</th>\n",
              "      <th>out_prncp_inv</th>\n",
              "      <th>total_pymnt</th>\n",
              "      <th>total_pymnt_inv</th>\n",
              "      <th>total_rec_prncp</th>\n",
              "      <th>total_rec_int</th>\n",
              "      <th>total_rec_late_fee</th>\n",
              "      <th>last_pymnt_amnt</th>\n",
              "      <th>collections_12_mths_ex_med</th>\n",
              "      <th>application_type</th>\n",
              "      <th>acc_now_delinq</th>\n",
              "      <th>tot_coll_amt</th>\n",
              "      <th>tot_cur_bal</th>\n",
              "      <th>total_rev_hi_lim</th>\n",
              "      <th>delinq</th>\n",
              "      <th>derog</th>\n",
              "      <th>purpose</th>\n",
              "      <th>term</th>\n",
              "      <th>home_ownership</th>\n",
              "      <th>verification_status</th>\n",
              "      <th>recovery</th>\n",
              "      <th>pymnt_received</th>\n",
              "      <th>loan_status</th>\n",
              "    </tr>\n",
              "  </thead>\n",
              "  <tbody>\n",
              "    <tr>\n",
              "      <th>180427</th>\n",
              "      <td>24000.0</td>\n",
              "      <td>24000.0</td>\n",
              "      <td>24000.0</td>\n",
              "      <td>16.29</td>\n",
              "      <td>587.34</td>\n",
              "      <td>2</td>\n",
              "      <td>13</td>\n",
              "      <td>11.0</td>\n",
              "      <td>58000.00</td>\n",
              "      <td>28.76</td>\n",
              "      <td>2.0</td>\n",
              "      <td>2000</td>\n",
              "      <td>1.0</td>\n",
              "      <td>8.0</td>\n",
              "      <td>0.0</td>\n",
              "      <td>11227.0</td>\n",
              "      <td>39.5</td>\n",
              "      <td>34.0</td>\n",
              "      <td>0</td>\n",
              "      <td>0.00</td>\n",
              "      <td>0.00</td>\n",
              "      <td>14866.12</td>\n",
              "      <td>14866.12</td>\n",
              "      <td>6291.96</td>\n",
              "      <td>6039.24</td>\n",
              "      <td>0.0</td>\n",
              "      <td>587.34</td>\n",
              "      <td>0.0</td>\n",
              "      <td>0</td>\n",
              "      <td>0.0</td>\n",
              "      <td>0.0</td>\n",
              "      <td>19953.0</td>\n",
              "      <td>28400.0</td>\n",
              "      <td>1.0</td>\n",
              "      <td>1.0</td>\n",
              "      <td>2</td>\n",
              "      <td>60</td>\n",
              "      <td>4</td>\n",
              "      <td>2</td>\n",
              "      <td>1</td>\n",
              "      <td>1.0</td>\n",
              "      <td>1</td>\n",
              "    </tr>\n",
              "    <tr>\n",
              "      <th>31906</th>\n",
              "      <td>14000.0</td>\n",
              "      <td>14000.0</td>\n",
              "      <td>13825.0</td>\n",
              "      <td>10.25</td>\n",
              "      <td>453.39</td>\n",
              "      <td>1</td>\n",
              "      <td>6</td>\n",
              "      <td>11.0</td>\n",
              "      <td>100000.00</td>\n",
              "      <td>9.26</td>\n",
              "      <td>0.0</td>\n",
              "      <td>1993</td>\n",
              "      <td>1.0</td>\n",
              "      <td>8.0</td>\n",
              "      <td>0.0</td>\n",
              "      <td>40267.0</td>\n",
              "      <td>66.2</td>\n",
              "      <td>36.0</td>\n",
              "      <td>1</td>\n",
              "      <td>0.00</td>\n",
              "      <td>0.00</td>\n",
              "      <td>14871.95</td>\n",
              "      <td>14686.03</td>\n",
              "      <td>14000.00</td>\n",
              "      <td>871.95</td>\n",
              "      <td>0.0</td>\n",
              "      <td>11719.49</td>\n",
              "      <td>0.0</td>\n",
              "      <td>0</td>\n",
              "      <td>0.0</td>\n",
              "      <td>0.0</td>\n",
              "      <td>0.0</td>\n",
              "      <td>0.0</td>\n",
              "      <td>0.0</td>\n",
              "      <td>0.0</td>\n",
              "      <td>2</td>\n",
              "      <td>36</td>\n",
              "      <td>0</td>\n",
              "      <td>0</td>\n",
              "      <td>0</td>\n",
              "      <td>1.0</td>\n",
              "      <td>0</td>\n",
              "    </tr>\n",
              "    <tr>\n",
              "      <th>810864</th>\n",
              "      <td>9250.0</td>\n",
              "      <td>9250.0</td>\n",
              "      <td>9250.0</td>\n",
              "      <td>13.33</td>\n",
              "      <td>313.15</td>\n",
              "      <td>2</td>\n",
              "      <td>12</td>\n",
              "      <td>0.0</td>\n",
              "      <td>42000.00</td>\n",
              "      <td>21.97</td>\n",
              "      <td>0.0</td>\n",
              "      <td>1988</td>\n",
              "      <td>3.0</td>\n",
              "      <td>9.0</td>\n",
              "      <td>2.0</td>\n",
              "      <td>2737.0</td>\n",
              "      <td>33.0</td>\n",
              "      <td>48.0</td>\n",
              "      <td>1</td>\n",
              "      <td>7270.07</td>\n",
              "      <td>7270.07</td>\n",
              "      <td>2827.84</td>\n",
              "      <td>2827.84</td>\n",
              "      <td>1979.93</td>\n",
              "      <td>847.91</td>\n",
              "      <td>0.0</td>\n",
              "      <td>313.15</td>\n",
              "      <td>0.0</td>\n",
              "      <td>0</td>\n",
              "      <td>0.0</td>\n",
              "      <td>0.0</td>\n",
              "      <td>22631.0</td>\n",
              "      <td>8410.0</td>\n",
              "      <td>1.0</td>\n",
              "      <td>1.0</td>\n",
              "      <td>4</td>\n",
              "      <td>36</td>\n",
              "      <td>3</td>\n",
              "      <td>2</td>\n",
              "      <td>0</td>\n",
              "      <td>1.0</td>\n",
              "      <td>0</td>\n",
              "    </tr>\n",
              "    <tr>\n",
              "      <th>687363</th>\n",
              "      <td>24000.0</td>\n",
              "      <td>24000.0</td>\n",
              "      <td>24000.0</td>\n",
              "      <td>18.25</td>\n",
              "      <td>612.72</td>\n",
              "      <td>4</td>\n",
              "      <td>20</td>\n",
              "      <td>10.0</td>\n",
              "      <td>58197.06</td>\n",
              "      <td>21.00</td>\n",
              "      <td>0.0</td>\n",
              "      <td>2005</td>\n",
              "      <td>0.0</td>\n",
              "      <td>12.0</td>\n",
              "      <td>0.0</td>\n",
              "      <td>14649.0</td>\n",
              "      <td>91.3</td>\n",
              "      <td>25.0</td>\n",
              "      <td>0</td>\n",
              "      <td>22456.01</td>\n",
              "      <td>22456.01</td>\n",
              "      <td>3651.99</td>\n",
              "      <td>3651.99</td>\n",
              "      <td>1543.99</td>\n",
              "      <td>2108.00</td>\n",
              "      <td>0.0</td>\n",
              "      <td>612.72</td>\n",
              "      <td>0.0</td>\n",
              "      <td>0</td>\n",
              "      <td>0.0</td>\n",
              "      <td>0.0</td>\n",
              "      <td>172903.0</td>\n",
              "      <td>16000.0</td>\n",
              "      <td>1.0</td>\n",
              "      <td>1.0</td>\n",
              "      <td>1</td>\n",
              "      <td>60</td>\n",
              "      <td>0</td>\n",
              "      <td>1</td>\n",
              "      <td>0</td>\n",
              "      <td>1.0</td>\n",
              "      <td>0</td>\n",
              "    </tr>\n",
              "    <tr>\n",
              "      <th>524705</th>\n",
              "      <td>10000.0</td>\n",
              "      <td>10000.0</td>\n",
              "      <td>10000.0</td>\n",
              "      <td>10.99</td>\n",
              "      <td>327.34</td>\n",
              "      <td>1</td>\n",
              "      <td>8</td>\n",
              "      <td>11.0</td>\n",
              "      <td>83000.00</td>\n",
              "      <td>12.29</td>\n",
              "      <td>2.0</td>\n",
              "      <td>1993</td>\n",
              "      <td>1.0</td>\n",
              "      <td>19.0</td>\n",
              "      <td>0.0</td>\n",
              "      <td>11400.0</td>\n",
              "      <td>57.3</td>\n",
              "      <td>24.0</td>\n",
              "      <td>1</td>\n",
              "      <td>9526.33</td>\n",
              "      <td>9526.33</td>\n",
              "      <td>648.57</td>\n",
              "      <td>648.57</td>\n",
              "      <td>473.67</td>\n",
              "      <td>174.90</td>\n",
              "      <td>0.0</td>\n",
              "      <td>327.34</td>\n",
              "      <td>0.0</td>\n",
              "      <td>0</td>\n",
              "      <td>0.0</td>\n",
              "      <td>0.0</td>\n",
              "      <td>165160.0</td>\n",
              "      <td>19900.0</td>\n",
              "      <td>1.0</td>\n",
              "      <td>0.0</td>\n",
              "      <td>1</td>\n",
              "      <td>36</td>\n",
              "      <td>0</td>\n",
              "      <td>1</td>\n",
              "      <td>0</td>\n",
              "      <td>1.0</td>\n",
              "      <td>0</td>\n",
              "    </tr>\n",
              "  </tbody>\n",
              "</table>\n",
              "</div>"
            ],
            "text/plain": [
              "        loan_amnt  funded_amnt  ...  pymnt_received  loan_status\n",
              "180427    24000.0      24000.0  ...             1.0            1\n",
              "31906     14000.0      14000.0  ...             1.0            0\n",
              "810864     9250.0       9250.0  ...             1.0            0\n",
              "687363    24000.0      24000.0  ...             1.0            0\n",
              "524705    10000.0      10000.0  ...             1.0            0\n",
              "\n",
              "[5 rows x 42 columns]"
            ]
          },
          "metadata": {
            "tags": []
          },
          "execution_count": 7
        }
      ]
    },
    {
      "cell_type": "code",
      "metadata": {
        "colab": {
          "base_uri": "https://localhost:8080/",
          "height": 224
        },
        "id": "aDsuWa1qxDtW",
        "outputId": "ef59beb7-aa1e-4e2d-b0bd-43da953fcdcb"
      },
      "source": [
        "train.head()"
      ],
      "execution_count": 8,
      "outputs": [
        {
          "output_type": "execute_result",
          "data": {
            "text/html": [
              "<div>\n",
              "<style scoped>\n",
              "    .dataframe tbody tr th:only-of-type {\n",
              "        vertical-align: middle;\n",
              "    }\n",
              "\n",
              "    .dataframe tbody tr th {\n",
              "        vertical-align: top;\n",
              "    }\n",
              "\n",
              "    .dataframe thead th {\n",
              "        text-align: right;\n",
              "    }\n",
              "</style>\n",
              "<table border=\"1\" class=\"dataframe\">\n",
              "  <thead>\n",
              "    <tr style=\"text-align: right;\">\n",
              "      <th></th>\n",
              "      <th>loan_amnt</th>\n",
              "      <th>funded_amnt</th>\n",
              "      <th>funded_amnt_inv</th>\n",
              "      <th>int_rate</th>\n",
              "      <th>installment</th>\n",
              "      <th>grade</th>\n",
              "      <th>sub_grade</th>\n",
              "      <th>emp_length</th>\n",
              "      <th>annual_inc</th>\n",
              "      <th>dti</th>\n",
              "      <th>delinq_2yrs</th>\n",
              "      <th>earliest_cr_line</th>\n",
              "      <th>inq_last_6mths</th>\n",
              "      <th>open_acc</th>\n",
              "      <th>pub_rec</th>\n",
              "      <th>revol_bal</th>\n",
              "      <th>revol_util</th>\n",
              "      <th>total_acc</th>\n",
              "      <th>initial_list_status</th>\n",
              "      <th>out_prncp</th>\n",
              "      <th>out_prncp_inv</th>\n",
              "      <th>total_pymnt</th>\n",
              "      <th>total_pymnt_inv</th>\n",
              "      <th>total_rec_prncp</th>\n",
              "      <th>total_rec_int</th>\n",
              "      <th>total_rec_late_fee</th>\n",
              "      <th>last_pymnt_amnt</th>\n",
              "      <th>collections_12_mths_ex_med</th>\n",
              "      <th>application_type</th>\n",
              "      <th>acc_now_delinq</th>\n",
              "      <th>tot_coll_amt</th>\n",
              "      <th>tot_cur_bal</th>\n",
              "      <th>total_rev_hi_lim</th>\n",
              "      <th>delinq</th>\n",
              "      <th>derog</th>\n",
              "      <th>purpose</th>\n",
              "      <th>term</th>\n",
              "      <th>home_ownership</th>\n",
              "      <th>verification_status</th>\n",
              "      <th>recovery</th>\n",
              "      <th>pymnt_received</th>\n",
              "      <th>loan_status</th>\n",
              "    </tr>\n",
              "  </thead>\n",
              "  <tbody>\n",
              "    <tr>\n",
              "      <th>180427</th>\n",
              "      <td>24000.0</td>\n",
              "      <td>24000.0</td>\n",
              "      <td>24000.0</td>\n",
              "      <td>16.29</td>\n",
              "      <td>587.34</td>\n",
              "      <td>2</td>\n",
              "      <td>13</td>\n",
              "      <td>11.0</td>\n",
              "      <td>58000.00</td>\n",
              "      <td>28.76</td>\n",
              "      <td>2.0</td>\n",
              "      <td>2000</td>\n",
              "      <td>1.0</td>\n",
              "      <td>8.0</td>\n",
              "      <td>0.0</td>\n",
              "      <td>11227.0</td>\n",
              "      <td>39.5</td>\n",
              "      <td>34.0</td>\n",
              "      <td>0</td>\n",
              "      <td>0.00</td>\n",
              "      <td>0.00</td>\n",
              "      <td>14866.12</td>\n",
              "      <td>14866.12</td>\n",
              "      <td>6291.96</td>\n",
              "      <td>6039.24</td>\n",
              "      <td>0.0</td>\n",
              "      <td>587.34</td>\n",
              "      <td>0.0</td>\n",
              "      <td>0</td>\n",
              "      <td>0.0</td>\n",
              "      <td>0.0</td>\n",
              "      <td>19953.0</td>\n",
              "      <td>28400.0</td>\n",
              "      <td>1.0</td>\n",
              "      <td>1.0</td>\n",
              "      <td>2</td>\n",
              "      <td>60</td>\n",
              "      <td>4</td>\n",
              "      <td>2</td>\n",
              "      <td>1</td>\n",
              "      <td>1.0</td>\n",
              "      <td>1</td>\n",
              "    </tr>\n",
              "    <tr>\n",
              "      <th>31906</th>\n",
              "      <td>14000.0</td>\n",
              "      <td>14000.0</td>\n",
              "      <td>13825.0</td>\n",
              "      <td>10.25</td>\n",
              "      <td>453.39</td>\n",
              "      <td>1</td>\n",
              "      <td>6</td>\n",
              "      <td>11.0</td>\n",
              "      <td>100000.00</td>\n",
              "      <td>9.26</td>\n",
              "      <td>0.0</td>\n",
              "      <td>1993</td>\n",
              "      <td>1.0</td>\n",
              "      <td>8.0</td>\n",
              "      <td>0.0</td>\n",
              "      <td>40267.0</td>\n",
              "      <td>66.2</td>\n",
              "      <td>36.0</td>\n",
              "      <td>1</td>\n",
              "      <td>0.00</td>\n",
              "      <td>0.00</td>\n",
              "      <td>14871.95</td>\n",
              "      <td>14686.03</td>\n",
              "      <td>14000.00</td>\n",
              "      <td>871.95</td>\n",
              "      <td>0.0</td>\n",
              "      <td>11719.49</td>\n",
              "      <td>0.0</td>\n",
              "      <td>0</td>\n",
              "      <td>0.0</td>\n",
              "      <td>0.0</td>\n",
              "      <td>0.0</td>\n",
              "      <td>0.0</td>\n",
              "      <td>0.0</td>\n",
              "      <td>0.0</td>\n",
              "      <td>2</td>\n",
              "      <td>36</td>\n",
              "      <td>0</td>\n",
              "      <td>0</td>\n",
              "      <td>0</td>\n",
              "      <td>1.0</td>\n",
              "      <td>0</td>\n",
              "    </tr>\n",
              "    <tr>\n",
              "      <th>810864</th>\n",
              "      <td>9250.0</td>\n",
              "      <td>9250.0</td>\n",
              "      <td>9250.0</td>\n",
              "      <td>13.33</td>\n",
              "      <td>313.15</td>\n",
              "      <td>2</td>\n",
              "      <td>12</td>\n",
              "      <td>0.0</td>\n",
              "      <td>42000.00</td>\n",
              "      <td>21.97</td>\n",
              "      <td>0.0</td>\n",
              "      <td>1988</td>\n",
              "      <td>3.0</td>\n",
              "      <td>9.0</td>\n",
              "      <td>2.0</td>\n",
              "      <td>2737.0</td>\n",
              "      <td>33.0</td>\n",
              "      <td>48.0</td>\n",
              "      <td>1</td>\n",
              "      <td>7270.07</td>\n",
              "      <td>7270.07</td>\n",
              "      <td>2827.84</td>\n",
              "      <td>2827.84</td>\n",
              "      <td>1979.93</td>\n",
              "      <td>847.91</td>\n",
              "      <td>0.0</td>\n",
              "      <td>313.15</td>\n",
              "      <td>0.0</td>\n",
              "      <td>0</td>\n",
              "      <td>0.0</td>\n",
              "      <td>0.0</td>\n",
              "      <td>22631.0</td>\n",
              "      <td>8410.0</td>\n",
              "      <td>1.0</td>\n",
              "      <td>1.0</td>\n",
              "      <td>4</td>\n",
              "      <td>36</td>\n",
              "      <td>3</td>\n",
              "      <td>2</td>\n",
              "      <td>0</td>\n",
              "      <td>1.0</td>\n",
              "      <td>0</td>\n",
              "    </tr>\n",
              "    <tr>\n",
              "      <th>687363</th>\n",
              "      <td>24000.0</td>\n",
              "      <td>24000.0</td>\n",
              "      <td>24000.0</td>\n",
              "      <td>18.25</td>\n",
              "      <td>612.72</td>\n",
              "      <td>4</td>\n",
              "      <td>20</td>\n",
              "      <td>10.0</td>\n",
              "      <td>58197.06</td>\n",
              "      <td>21.00</td>\n",
              "      <td>0.0</td>\n",
              "      <td>2005</td>\n",
              "      <td>0.0</td>\n",
              "      <td>12.0</td>\n",
              "      <td>0.0</td>\n",
              "      <td>14649.0</td>\n",
              "      <td>91.3</td>\n",
              "      <td>25.0</td>\n",
              "      <td>0</td>\n",
              "      <td>22456.01</td>\n",
              "      <td>22456.01</td>\n",
              "      <td>3651.99</td>\n",
              "      <td>3651.99</td>\n",
              "      <td>1543.99</td>\n",
              "      <td>2108.00</td>\n",
              "      <td>0.0</td>\n",
              "      <td>612.72</td>\n",
              "      <td>0.0</td>\n",
              "      <td>0</td>\n",
              "      <td>0.0</td>\n",
              "      <td>0.0</td>\n",
              "      <td>172903.0</td>\n",
              "      <td>16000.0</td>\n",
              "      <td>1.0</td>\n",
              "      <td>1.0</td>\n",
              "      <td>1</td>\n",
              "      <td>60</td>\n",
              "      <td>0</td>\n",
              "      <td>1</td>\n",
              "      <td>0</td>\n",
              "      <td>1.0</td>\n",
              "      <td>0</td>\n",
              "    </tr>\n",
              "    <tr>\n",
              "      <th>524705</th>\n",
              "      <td>10000.0</td>\n",
              "      <td>10000.0</td>\n",
              "      <td>10000.0</td>\n",
              "      <td>10.99</td>\n",
              "      <td>327.34</td>\n",
              "      <td>1</td>\n",
              "      <td>8</td>\n",
              "      <td>11.0</td>\n",
              "      <td>83000.00</td>\n",
              "      <td>12.29</td>\n",
              "      <td>2.0</td>\n",
              "      <td>1993</td>\n",
              "      <td>1.0</td>\n",
              "      <td>19.0</td>\n",
              "      <td>0.0</td>\n",
              "      <td>11400.0</td>\n",
              "      <td>57.3</td>\n",
              "      <td>24.0</td>\n",
              "      <td>1</td>\n",
              "      <td>9526.33</td>\n",
              "      <td>9526.33</td>\n",
              "      <td>648.57</td>\n",
              "      <td>648.57</td>\n",
              "      <td>473.67</td>\n",
              "      <td>174.90</td>\n",
              "      <td>0.0</td>\n",
              "      <td>327.34</td>\n",
              "      <td>0.0</td>\n",
              "      <td>0</td>\n",
              "      <td>0.0</td>\n",
              "      <td>0.0</td>\n",
              "      <td>165160.0</td>\n",
              "      <td>19900.0</td>\n",
              "      <td>1.0</td>\n",
              "      <td>0.0</td>\n",
              "      <td>1</td>\n",
              "      <td>36</td>\n",
              "      <td>0</td>\n",
              "      <td>1</td>\n",
              "      <td>0</td>\n",
              "      <td>1.0</td>\n",
              "      <td>0</td>\n",
              "    </tr>\n",
              "  </tbody>\n",
              "</table>\n",
              "</div>"
            ],
            "text/plain": [
              "        loan_amnt  funded_amnt  ...  pymnt_received  loan_status\n",
              "180427    24000.0      24000.0  ...             1.0            1\n",
              "31906     14000.0      14000.0  ...             1.0            0\n",
              "810864     9250.0       9250.0  ...             1.0            0\n",
              "687363    24000.0      24000.0  ...             1.0            0\n",
              "524705    10000.0      10000.0  ...             1.0            0\n",
              "\n",
              "[5 rows x 42 columns]"
            ]
          },
          "metadata": {
            "tags": []
          },
          "execution_count": 8
        }
      ]
    },
    {
      "cell_type": "code",
      "metadata": {
        "id": "u8JedC897TK8",
        "colab": {
          "base_uri": "https://localhost:8080/"
        },
        "outputId": "5959f60b-7556-4430-8cd0-6559026f2bc0"
      },
      "source": [
        "x_train = train.drop('loan_status',axis =1)\n",
        "x_test = test.drop('loan_status',axis =1)\n",
        "x_validation = validation.drop('loan_status',axis =1)\n",
        "\n",
        "y_train = train['loan_status']\n",
        "y_test = test['loan_status']\n",
        "y_validation = validation['loan_status']\n",
        "y_train.shape"
      ],
      "execution_count": 9,
      "outputs": [
        {
          "output_type": "execute_result",
          "data": {
            "text/plain": [
              "(791024,)"
            ]
          },
          "metadata": {
            "tags": []
          },
          "execution_count": 9
        }
      ]
    },
    {
      "cell_type": "code",
      "metadata": {
        "colab": {
          "base_uri": "https://localhost:8080/",
          "height": 224
        },
        "id": "D4LysGwbyNiL",
        "outputId": "b1eb0a4d-64f7-4075-994d-01fc987bf864"
      },
      "source": [
        "train.head()"
      ],
      "execution_count": 10,
      "outputs": [
        {
          "output_type": "execute_result",
          "data": {
            "text/html": [
              "<div>\n",
              "<style scoped>\n",
              "    .dataframe tbody tr th:only-of-type {\n",
              "        vertical-align: middle;\n",
              "    }\n",
              "\n",
              "    .dataframe tbody tr th {\n",
              "        vertical-align: top;\n",
              "    }\n",
              "\n",
              "    .dataframe thead th {\n",
              "        text-align: right;\n",
              "    }\n",
              "</style>\n",
              "<table border=\"1\" class=\"dataframe\">\n",
              "  <thead>\n",
              "    <tr style=\"text-align: right;\">\n",
              "      <th></th>\n",
              "      <th>loan_amnt</th>\n",
              "      <th>funded_amnt</th>\n",
              "      <th>funded_amnt_inv</th>\n",
              "      <th>int_rate</th>\n",
              "      <th>installment</th>\n",
              "      <th>grade</th>\n",
              "      <th>sub_grade</th>\n",
              "      <th>emp_length</th>\n",
              "      <th>annual_inc</th>\n",
              "      <th>dti</th>\n",
              "      <th>delinq_2yrs</th>\n",
              "      <th>earliest_cr_line</th>\n",
              "      <th>inq_last_6mths</th>\n",
              "      <th>open_acc</th>\n",
              "      <th>pub_rec</th>\n",
              "      <th>revol_bal</th>\n",
              "      <th>revol_util</th>\n",
              "      <th>total_acc</th>\n",
              "      <th>initial_list_status</th>\n",
              "      <th>out_prncp</th>\n",
              "      <th>out_prncp_inv</th>\n",
              "      <th>total_pymnt</th>\n",
              "      <th>total_pymnt_inv</th>\n",
              "      <th>total_rec_prncp</th>\n",
              "      <th>total_rec_int</th>\n",
              "      <th>total_rec_late_fee</th>\n",
              "      <th>last_pymnt_amnt</th>\n",
              "      <th>collections_12_mths_ex_med</th>\n",
              "      <th>application_type</th>\n",
              "      <th>acc_now_delinq</th>\n",
              "      <th>tot_coll_amt</th>\n",
              "      <th>tot_cur_bal</th>\n",
              "      <th>total_rev_hi_lim</th>\n",
              "      <th>delinq</th>\n",
              "      <th>derog</th>\n",
              "      <th>purpose</th>\n",
              "      <th>term</th>\n",
              "      <th>home_ownership</th>\n",
              "      <th>verification_status</th>\n",
              "      <th>recovery</th>\n",
              "      <th>pymnt_received</th>\n",
              "      <th>loan_status</th>\n",
              "    </tr>\n",
              "  </thead>\n",
              "  <tbody>\n",
              "    <tr>\n",
              "      <th>180427</th>\n",
              "      <td>24000.0</td>\n",
              "      <td>24000.0</td>\n",
              "      <td>24000.0</td>\n",
              "      <td>16.29</td>\n",
              "      <td>587.34</td>\n",
              "      <td>2</td>\n",
              "      <td>13</td>\n",
              "      <td>11.0</td>\n",
              "      <td>58000.00</td>\n",
              "      <td>28.76</td>\n",
              "      <td>2.0</td>\n",
              "      <td>2000</td>\n",
              "      <td>1.0</td>\n",
              "      <td>8.0</td>\n",
              "      <td>0.0</td>\n",
              "      <td>11227.0</td>\n",
              "      <td>39.5</td>\n",
              "      <td>34.0</td>\n",
              "      <td>0</td>\n",
              "      <td>0.00</td>\n",
              "      <td>0.00</td>\n",
              "      <td>14866.12</td>\n",
              "      <td>14866.12</td>\n",
              "      <td>6291.96</td>\n",
              "      <td>6039.24</td>\n",
              "      <td>0.0</td>\n",
              "      <td>587.34</td>\n",
              "      <td>0.0</td>\n",
              "      <td>0</td>\n",
              "      <td>0.0</td>\n",
              "      <td>0.0</td>\n",
              "      <td>19953.0</td>\n",
              "      <td>28400.0</td>\n",
              "      <td>1.0</td>\n",
              "      <td>1.0</td>\n",
              "      <td>2</td>\n",
              "      <td>60</td>\n",
              "      <td>4</td>\n",
              "      <td>2</td>\n",
              "      <td>1</td>\n",
              "      <td>1.0</td>\n",
              "      <td>1</td>\n",
              "    </tr>\n",
              "    <tr>\n",
              "      <th>31906</th>\n",
              "      <td>14000.0</td>\n",
              "      <td>14000.0</td>\n",
              "      <td>13825.0</td>\n",
              "      <td>10.25</td>\n",
              "      <td>453.39</td>\n",
              "      <td>1</td>\n",
              "      <td>6</td>\n",
              "      <td>11.0</td>\n",
              "      <td>100000.00</td>\n",
              "      <td>9.26</td>\n",
              "      <td>0.0</td>\n",
              "      <td>1993</td>\n",
              "      <td>1.0</td>\n",
              "      <td>8.0</td>\n",
              "      <td>0.0</td>\n",
              "      <td>40267.0</td>\n",
              "      <td>66.2</td>\n",
              "      <td>36.0</td>\n",
              "      <td>1</td>\n",
              "      <td>0.00</td>\n",
              "      <td>0.00</td>\n",
              "      <td>14871.95</td>\n",
              "      <td>14686.03</td>\n",
              "      <td>14000.00</td>\n",
              "      <td>871.95</td>\n",
              "      <td>0.0</td>\n",
              "      <td>11719.49</td>\n",
              "      <td>0.0</td>\n",
              "      <td>0</td>\n",
              "      <td>0.0</td>\n",
              "      <td>0.0</td>\n",
              "      <td>0.0</td>\n",
              "      <td>0.0</td>\n",
              "      <td>0.0</td>\n",
              "      <td>0.0</td>\n",
              "      <td>2</td>\n",
              "      <td>36</td>\n",
              "      <td>0</td>\n",
              "      <td>0</td>\n",
              "      <td>0</td>\n",
              "      <td>1.0</td>\n",
              "      <td>0</td>\n",
              "    </tr>\n",
              "    <tr>\n",
              "      <th>810864</th>\n",
              "      <td>9250.0</td>\n",
              "      <td>9250.0</td>\n",
              "      <td>9250.0</td>\n",
              "      <td>13.33</td>\n",
              "      <td>313.15</td>\n",
              "      <td>2</td>\n",
              "      <td>12</td>\n",
              "      <td>0.0</td>\n",
              "      <td>42000.00</td>\n",
              "      <td>21.97</td>\n",
              "      <td>0.0</td>\n",
              "      <td>1988</td>\n",
              "      <td>3.0</td>\n",
              "      <td>9.0</td>\n",
              "      <td>2.0</td>\n",
              "      <td>2737.0</td>\n",
              "      <td>33.0</td>\n",
              "      <td>48.0</td>\n",
              "      <td>1</td>\n",
              "      <td>7270.07</td>\n",
              "      <td>7270.07</td>\n",
              "      <td>2827.84</td>\n",
              "      <td>2827.84</td>\n",
              "      <td>1979.93</td>\n",
              "      <td>847.91</td>\n",
              "      <td>0.0</td>\n",
              "      <td>313.15</td>\n",
              "      <td>0.0</td>\n",
              "      <td>0</td>\n",
              "      <td>0.0</td>\n",
              "      <td>0.0</td>\n",
              "      <td>22631.0</td>\n",
              "      <td>8410.0</td>\n",
              "      <td>1.0</td>\n",
              "      <td>1.0</td>\n",
              "      <td>4</td>\n",
              "      <td>36</td>\n",
              "      <td>3</td>\n",
              "      <td>2</td>\n",
              "      <td>0</td>\n",
              "      <td>1.0</td>\n",
              "      <td>0</td>\n",
              "    </tr>\n",
              "    <tr>\n",
              "      <th>687363</th>\n",
              "      <td>24000.0</td>\n",
              "      <td>24000.0</td>\n",
              "      <td>24000.0</td>\n",
              "      <td>18.25</td>\n",
              "      <td>612.72</td>\n",
              "      <td>4</td>\n",
              "      <td>20</td>\n",
              "      <td>10.0</td>\n",
              "      <td>58197.06</td>\n",
              "      <td>21.00</td>\n",
              "      <td>0.0</td>\n",
              "      <td>2005</td>\n",
              "      <td>0.0</td>\n",
              "      <td>12.0</td>\n",
              "      <td>0.0</td>\n",
              "      <td>14649.0</td>\n",
              "      <td>91.3</td>\n",
              "      <td>25.0</td>\n",
              "      <td>0</td>\n",
              "      <td>22456.01</td>\n",
              "      <td>22456.01</td>\n",
              "      <td>3651.99</td>\n",
              "      <td>3651.99</td>\n",
              "      <td>1543.99</td>\n",
              "      <td>2108.00</td>\n",
              "      <td>0.0</td>\n",
              "      <td>612.72</td>\n",
              "      <td>0.0</td>\n",
              "      <td>0</td>\n",
              "      <td>0.0</td>\n",
              "      <td>0.0</td>\n",
              "      <td>172903.0</td>\n",
              "      <td>16000.0</td>\n",
              "      <td>1.0</td>\n",
              "      <td>1.0</td>\n",
              "      <td>1</td>\n",
              "      <td>60</td>\n",
              "      <td>0</td>\n",
              "      <td>1</td>\n",
              "      <td>0</td>\n",
              "      <td>1.0</td>\n",
              "      <td>0</td>\n",
              "    </tr>\n",
              "    <tr>\n",
              "      <th>524705</th>\n",
              "      <td>10000.0</td>\n",
              "      <td>10000.0</td>\n",
              "      <td>10000.0</td>\n",
              "      <td>10.99</td>\n",
              "      <td>327.34</td>\n",
              "      <td>1</td>\n",
              "      <td>8</td>\n",
              "      <td>11.0</td>\n",
              "      <td>83000.00</td>\n",
              "      <td>12.29</td>\n",
              "      <td>2.0</td>\n",
              "      <td>1993</td>\n",
              "      <td>1.0</td>\n",
              "      <td>19.0</td>\n",
              "      <td>0.0</td>\n",
              "      <td>11400.0</td>\n",
              "      <td>57.3</td>\n",
              "      <td>24.0</td>\n",
              "      <td>1</td>\n",
              "      <td>9526.33</td>\n",
              "      <td>9526.33</td>\n",
              "      <td>648.57</td>\n",
              "      <td>648.57</td>\n",
              "      <td>473.67</td>\n",
              "      <td>174.90</td>\n",
              "      <td>0.0</td>\n",
              "      <td>327.34</td>\n",
              "      <td>0.0</td>\n",
              "      <td>0</td>\n",
              "      <td>0.0</td>\n",
              "      <td>0.0</td>\n",
              "      <td>165160.0</td>\n",
              "      <td>19900.0</td>\n",
              "      <td>1.0</td>\n",
              "      <td>0.0</td>\n",
              "      <td>1</td>\n",
              "      <td>36</td>\n",
              "      <td>0</td>\n",
              "      <td>1</td>\n",
              "      <td>0</td>\n",
              "      <td>1.0</td>\n",
              "      <td>0</td>\n",
              "    </tr>\n",
              "  </tbody>\n",
              "</table>\n",
              "</div>"
            ],
            "text/plain": [
              "        loan_amnt  funded_amnt  ...  pymnt_received  loan_status\n",
              "180427    24000.0      24000.0  ...             1.0            1\n",
              "31906     14000.0      14000.0  ...             1.0            0\n",
              "810864     9250.0       9250.0  ...             1.0            0\n",
              "687363    24000.0      24000.0  ...             1.0            0\n",
              "524705    10000.0      10000.0  ...             1.0            0\n",
              "\n",
              "[5 rows x 42 columns]"
            ]
          },
          "metadata": {
            "tags": []
          },
          "execution_count": 10
        }
      ]
    },
    {
      "cell_type": "code",
      "metadata": {
        "colab": {
          "base_uri": "https://localhost:8080/"
        },
        "id": "ocvQPMQnBEQV",
        "outputId": "dd4fb31d-9d8e-42ce-9d86-633eae543384"
      },
      "source": [
        "sample_size = x_train.shape[0]\n",
        "time_steps = x_train.shape[1]\n",
        "input_dimension = 1\n",
        "x_train_reshaped = x_train.values.reshape(sample_size,time_steps,input_dimension)\n",
        "x_train_reshaped.shape"
      ],
      "execution_count": 11,
      "outputs": [
        {
          "output_type": "execute_result",
          "data": {
            "text/plain": [
              "(791024, 41, 1)"
            ]
          },
          "metadata": {
            "tags": []
          },
          "execution_count": 11
        }
      ]
    },
    {
      "cell_type": "code",
      "metadata": {
        "id": "BeSitkhVJQS7"
      },
      "source": [
        "x_test_reshaped = x_test.values.reshape(x_test.shape[0],x_test.shape[1],1)\n",
        "x_validation_reshaped = x_validation.values.reshape(x_validation.shape[0],x_validation.shape[1],1)"
      ],
      "execution_count": 12,
      "outputs": []
    },
    {
      "cell_type": "markdown",
      "metadata": {
        "id": "xFq6ytBijUre"
      },
      "source": [
        "## Build 1D-CNN Model"
      ]
    },
    {
      "cell_type": "code",
      "metadata": {
        "id": "pJE_oaNai91H"
      },
      "source": [
        "import keras\n",
        "from keras import models\n",
        "from keras import layers\n",
        "from tensorflow.keras.models import Sequential\n",
        "from tensorflow.keras.layers import Conv1D, Dense, Dropout, MaxPooling1D, Flatten\n",
        "from tensorflow.keras.callbacks import EarlyStopping, Callback\n"
      ],
      "execution_count": 13,
      "outputs": []
    },
    {
      "cell_type": "code",
      "metadata": {
        "colab": {
          "base_uri": "https://localhost:8080/"
        },
        "id": "Mey_heQFGEWj",
        "outputId": "52150f6a-d449-430f-d66a-963586d0bc14"
      },
      "source": [
        "def build_conv1D_model():\n",
        "\n",
        "  n_timesteps = x_train_reshaped.shape[1] \n",
        "  n_features  = x_train_reshaped.shape[2]\n",
        "  model = keras.Sequential(name=\"model_conv1D\")\n",
        "  model.add(keras.layers.Input(shape=(n_timesteps,n_features)))\n",
        "  model.add(keras.layers.Conv1D(filters=64, kernel_size=7, activation='relu', name=\"Conv1D_1\"))\n",
        "  model.add(keras.layers.Dropout(0.5))\n",
        "  model.add(keras.layers.Conv1D(filters=32, kernel_size=3, activation='relu', name=\"Conv1D_2\"))\n",
        "  model.add(keras.layers.Conv1D(filters=16, kernel_size=2, activation='relu', name=\"Conv1D_3\"))\n",
        "  model.add(keras.layers.MaxPooling1D(pool_size=2, name=\"MaxPooling1D\"))\n",
        "  model.add(keras.layers.Flatten())\n",
        "  model.add(keras.layers.Dense(32, activation='relu', name=\"Dense_1\"))\n",
        "  model.add(keras.layers.Dense(n_features, activation = 'sigmoid'))  \n",
        "\n",
        "  model.compile(loss='binary_crossentropy',optimizer='adam',metrics=['acc'])\n",
        "  return model\n",
        "\n",
        "model_conv1D = build_conv1D_model()\n",
        "model_conv1D.summary()"
      ],
      "execution_count": 14,
      "outputs": [
        {
          "output_type": "stream",
          "text": [
            "Model: \"model_conv1D\"\n",
            "_________________________________________________________________\n",
            "Layer (type)                 Output Shape              Param #   \n",
            "=================================================================\n",
            "Conv1D_1 (Conv1D)            (None, 35, 64)            512       \n",
            "_________________________________________________________________\n",
            "dropout (Dropout)            (None, 35, 64)            0         \n",
            "_________________________________________________________________\n",
            "Conv1D_2 (Conv1D)            (None, 33, 32)            6176      \n",
            "_________________________________________________________________\n",
            "Conv1D_3 (Conv1D)            (None, 32, 16)            1040      \n",
            "_________________________________________________________________\n",
            "MaxPooling1D (MaxPooling1D)  (None, 16, 16)            0         \n",
            "_________________________________________________________________\n",
            "flatten (Flatten)            (None, 256)               0         \n",
            "_________________________________________________________________\n",
            "Dense_1 (Dense)              (None, 32)                8224      \n",
            "_________________________________________________________________\n",
            "dense (Dense)                (None, 1)                 33        \n",
            "=================================================================\n",
            "Total params: 15,985\n",
            "Trainable params: 15,985\n",
            "Non-trainable params: 0\n",
            "_________________________________________________________________\n"
          ],
          "name": "stdout"
        }
      ]
    },
    {
      "cell_type": "code",
      "metadata": {
        "id": "5QtVp1shbRGF"
      },
      "source": [
        "Es=EarlyStopping(monitor='val_loss', patience=2,restore_best_weights=True) \n",
        "#history = model_conv1D.fit(x_train_reshaped, y_train.values, epochs=10,\n",
        "                    #validation_data = (x_validation_reshaped, y_validation.values),callbacks = [Es])"
      ],
      "execution_count": 15,
      "outputs": []
    },
    {
      "cell_type": "code",
      "metadata": {
        "colab": {
          "base_uri": "https://localhost:8080/"
        },
        "id": "-xnd4jZR1gd6",
        "outputId": "46c7744e-6195-42d4-8911-2db290a9d214"
      },
      "source": [
        "history = model_conv1D.fit(x_train_reshaped, y_train.values, epochs=10,\n",
        "                    validation_data = (x_validation_reshaped, y_validation.values),callbacks = [Es])"
      ],
      "execution_count": 17,
      "outputs": [
        {
          "output_type": "stream",
          "text": [
            "Epoch 1/10\n",
            "24720/24720 [==============================] - 196s 8ms/step - loss: 7.3251 - acc: 0.9285 - val_loss: 0.1297 - val_acc: 0.9742\n",
            "Epoch 2/10\n",
            "24720/24720 [==============================] - 182s 7ms/step - loss: 0.1418 - acc: 0.9724 - val_loss: 0.1073 - val_acc: 0.9782\n",
            "Epoch 3/10\n",
            "24720/24720 [==============================] - 178s 7ms/step - loss: 0.1270 - acc: 0.9754 - val_loss: 0.1101 - val_acc: 0.9784\n",
            "Epoch 4/10\n",
            "24720/24720 [==============================] - 175s 7ms/step - loss: 0.1244 - acc: 0.9759 - val_loss: 0.0924 - val_acc: 0.9833\n",
            "Epoch 5/10\n",
            "24720/24720 [==============================] - 174s 7ms/step - loss: 0.0994 - acc: 0.9790 - val_loss: 0.0859 - val_acc: 0.9821\n",
            "Epoch 6/10\n",
            "24720/24720 [==============================] - 180s 7ms/step - loss: 0.1055 - acc: 0.9788 - val_loss: 0.1079 - val_acc: 0.9772\n",
            "Epoch 7/10\n",
            "24720/24720 [==============================] - 177s 7ms/step - loss: 0.1118 - acc: 0.9780 - val_loss: 0.0892 - val_acc: 0.9816\n"
          ],
          "name": "stdout"
        }
      ]
    },
    {
      "cell_type": "code",
      "metadata": {
        "colab": {
          "base_uri": "https://localhost:8080/"
        },
        "id": "5usG9guyOuHT",
        "outputId": "91bd4495-9a1e-4ae3-8716-29ef091b0b77"
      },
      "source": [
        "print(\"The testing accuracy is:\", model_conv1D.evaluate(x_test_reshaped, y_test.values))"
      ],
      "execution_count": 18,
      "outputs": [
        {
          "output_type": "stream",
          "text": [
            "23714/23714 [==============================] - 48s 2ms/step - loss: 0.0999 - acc: 0.9791\n",
            "The testing accuracy is: [0.09991364181041718, 0.9791087508201599]\n"
          ],
          "name": "stdout"
        }
      ]
    },
    {
      "cell_type": "markdown",
      "metadata": {
        "id": "mrYTHNs9PKBS"
      },
      "source": [
        "## Apply Oversampling"
      ]
    },
    {
      "cell_type": "code",
      "metadata": {
        "colab": {
          "base_uri": "https://localhost:8080/"
        },
        "id": "Uv4pRf1QPJHq",
        "outputId": "b8876e5b-7f7a-4dba-95cc-2aee54f15a7f"
      },
      "source": [
        "pip install imbalanced-learn"
      ],
      "execution_count": 16,
      "outputs": [
        {
          "output_type": "stream",
          "text": [
            "Requirement already satisfied: imbalanced-learn in /usr/local/lib/python3.6/dist-packages (0.4.3)\n",
            "Requirement already satisfied: scipy>=0.13.3 in /usr/local/lib/python3.6/dist-packages (from imbalanced-learn) (1.4.1)\n",
            "Requirement already satisfied: scikit-learn>=0.20 in /usr/local/lib/python3.6/dist-packages (from imbalanced-learn) (0.22.2.post1)\n",
            "Requirement already satisfied: numpy>=1.8.2 in /usr/local/lib/python3.6/dist-packages (from imbalanced-learn) (1.19.4)\n",
            "Requirement already satisfied: joblib>=0.11 in /usr/local/lib/python3.6/dist-packages (from scikit-learn>=0.20->imbalanced-learn) (1.0.0)\n"
          ],
          "name": "stdout"
        }
      ]
    },
    {
      "cell_type": "code",
      "metadata": {
        "id": "PM5qQCT1OuJl",
        "colab": {
          "base_uri": "https://localhost:8080/"
        },
        "outputId": "70071b77-9a9e-4d51-c298-b25ce06c19b2"
      },
      "source": [
        "import imblearn\n",
        "from imblearn.over_sampling import SMOTE\n",
        "\n",
        "from sklearn.model_selection import train_test_split\n",
        "train_bal, validation_bal=train_test_split(train,train_size=0.9,stratify=train[\"loan_status\"])"
      ],
      "execution_count": 17,
      "outputs": [
        {
          "output_type": "stream",
          "text": [
            "/usr/local/lib/python3.6/dist-packages/sklearn/externals/six.py:31: FutureWarning: The module is deprecated in version 0.21 and will be removed in version 0.23 since we've dropped support for Python 2.7. Please rely on the official version of six (https://pypi.org/project/six/).\n",
            "  \"(https://pypi.org/project/six/).\", FutureWarning)\n",
            "/usr/local/lib/python3.6/dist-packages/sklearn/utils/deprecation.py:144: FutureWarning: The sklearn.neighbors.base module is  deprecated in version 0.22 and will be removed in version 0.24. The corresponding classes / functions should instead be imported from sklearn.neighbors. Anything that cannot be imported from sklearn.neighbors is now part of the private API.\n",
            "  warnings.warn(message, FutureWarning)\n"
          ],
          "name": "stderr"
        }
      ]
    },
    {
      "cell_type": "code",
      "metadata": {
        "id": "NC5TsKfwVu60"
      },
      "source": [
        "x_train_bal = train.drop('loan_status',axis =1)\n",
        "x_test_bal = test.drop('loan_status',axis =1)\n",
        "x_validation_bal = validation.drop('loan_status',axis =1)\n",
        "\n",
        "y_train_bal = train['loan_status']\n",
        "y_test_bal = test['loan_status']\n",
        "y_validation_bal = validation['loan_status']"
      ],
      "execution_count": 18,
      "outputs": []
    },
    {
      "cell_type": "code",
      "metadata": {
        "colab": {
          "base_uri": "https://localhost:8080/"
        },
        "id": "AQUDfFc6OuL_",
        "outputId": "0d4178f2-e2ed-47d2-e805-445b3d96a3dd"
      },
      "source": [
        "print(\"Before OverSampling, counts of label '1': {}\".format(sum(y_train_bal==1)))\n",
        "print(\"Before OverSampling, counts of label '0': {} \\n\".format(sum(y_train_bal==0)))\n",
        "\n",
        "sm = SMOTE(random_state=2)\n",
        "X_train_bal, y_train_bal = sm.fit_sample(x_train_bal, y_train_bal.ravel())\n",
        "\n",
        "print('After OverSampling, the shape of train_X: {}'.format(x_train_bal.shape))\n",
        "print('After OverSampling, the shape of train_y: {} \\n'.format(y_train_bal.shape))\n",
        "\n",
        "print(\"After OverSampling, counts of label '1': {}\".format(sum(y_train_bal==1)))\n",
        "print(\"After OverSampling, counts of label '0': {}\".format(sum(y_train_bal==0)))"
      ],
      "execution_count": 19,
      "outputs": [
        {
          "output_type": "stream",
          "text": [
            "Before OverSampling, counts of label '1': 52937\n",
            "Before OverSampling, counts of label '0': 738087 \n",
            "\n"
          ],
          "name": "stdout"
        },
        {
          "output_type": "stream",
          "text": [
            "/usr/local/lib/python3.6/dist-packages/sklearn/utils/deprecation.py:87: FutureWarning: Function safe_indexing is deprecated; safe_indexing is deprecated in version 0.22 and will be removed in version 0.24.\n",
            "  warnings.warn(msg, category=FutureWarning)\n"
          ],
          "name": "stderr"
        },
        {
          "output_type": "stream",
          "text": [
            "After OverSampling, the shape of train_X: (791024, 41)\n",
            "After OverSampling, the shape of train_y: (1476174,) \n",
            "\n",
            "After OverSampling, counts of label '1': 738087\n",
            "After OverSampling, counts of label '0': 738087\n"
          ],
          "name": "stdout"
        }
      ]
    },
    {
      "cell_type": "code",
      "metadata": {
        "colab": {
          "base_uri": "https://localhost:8080/"
        },
        "id": "AfebHs4NW9BM",
        "outputId": "a6fad8e4-26a3-457c-c50e-a32480e2fa37"
      },
      "source": [
        "print(\"Before OverSampling, counts of label '1': {}\".format(sum(y_test_bal==1)))\n",
        "print(\"Before OverSampling, counts of label '0': {} \\n\".format(sum(y_test_bal==0)))\n",
        "\n",
        "sm = SMOTE(random_state=2)\n",
        "X_test_bal, y_test_bal = sm.fit_sample(x_test_bal, y_test_bal.ravel())\n",
        "\n",
        "print('After OverSampling, the shape of train_X: {}'.format(x_test_bal.shape))\n",
        "print('After OverSampling, the shape of train_y: {} \\n'.format(y_test_bal.shape))\n",
        "\n",
        "print(\"After OverSampling, counts of label '1': {}\".format(sum(y_test_bal==1)))\n",
        "print(\"After OverSampling, counts of label '0': {}\".format(sum(y_test_bal==0)))"
      ],
      "execution_count": 20,
      "outputs": [
        {
          "output_type": "stream",
          "text": [
            "Before OverSampling, counts of label '1': 52564\n",
            "Before OverSampling, counts of label '0': 706270 \n",
            "\n"
          ],
          "name": "stdout"
        },
        {
          "output_type": "stream",
          "text": [
            "/usr/local/lib/python3.6/dist-packages/sklearn/utils/deprecation.py:87: FutureWarning: Function safe_indexing is deprecated; safe_indexing is deprecated in version 0.22 and will be removed in version 0.24.\n",
            "  warnings.warn(msg, category=FutureWarning)\n"
          ],
          "name": "stderr"
        },
        {
          "output_type": "stream",
          "text": [
            "After OverSampling, the shape of train_X: (758834, 41)\n",
            "After OverSampling, the shape of train_y: (1412540,) \n",
            "\n",
            "After OverSampling, counts of label '1': 706270\n",
            "After OverSampling, counts of label '0': 706270\n"
          ],
          "name": "stdout"
        }
      ]
    },
    {
      "cell_type": "code",
      "metadata": {
        "colab": {
          "base_uri": "https://localhost:8080/"
        },
        "id": "e2jC-ihAXJE9",
        "outputId": "43c66274-a634-4504-f0cc-b279d926caa5"
      },
      "source": [
        "print(\"Before OverSampling, counts of label '1': {}\".format(sum(y_validation_bal==1)))\n",
        "print(\"Before OverSampling, counts of label '0': {} \\n\".format(sum(y_validation_bal==0)))\n",
        "\n",
        "sm = SMOTE(random_state=2)\n",
        "X_validation_bal, y_validation_bal = sm.fit_sample(x_validation_bal, y_validation_bal.ravel())\n",
        "\n",
        "print('After OverSampling, the shape of train_X: {}'.format(x_validation_bal.shape))\n",
        "print('After OverSampling, the shape of train_y: {} \\n'.format(y_validation_bal.shape))\n",
        "\n",
        "print(\"After OverSampling, counts of label '1': {}\".format(sum(y_validation_bal==1)))\n",
        "print(\"After OverSampling, counts of label '0': {}\".format(sum(y_validation_bal==0)))"
      ],
      "execution_count": 21,
      "outputs": [
        {
          "output_type": "stream",
          "text": [
            "Before OverSampling, counts of label '1': 5882\n",
            "Before OverSampling, counts of label '0': 82010 \n",
            "\n"
          ],
          "name": "stdout"
        },
        {
          "output_type": "stream",
          "text": [
            "/usr/local/lib/python3.6/dist-packages/sklearn/utils/deprecation.py:87: FutureWarning: Function safe_indexing is deprecated; safe_indexing is deprecated in version 0.22 and will be removed in version 0.24.\n",
            "  warnings.warn(msg, category=FutureWarning)\n"
          ],
          "name": "stderr"
        },
        {
          "output_type": "stream",
          "text": [
            "After OverSampling, the shape of train_X: (87892, 41)\n",
            "After OverSampling, the shape of train_y: (164020,) \n",
            "\n",
            "After OverSampling, counts of label '1': 82010\n",
            "After OverSampling, counts of label '0': 82010\n"
          ],
          "name": "stdout"
        }
      ]
    },
    {
      "cell_type": "code",
      "metadata": {
        "id": "_Zd8TLZiWUgS"
      },
      "source": [
        "x_train_bal_reshaped = X_train_bal.reshape(X_train_bal.shape[0],X_train_bal.shape[1],1)\n",
        "x_test_bal_reshaped = X_test_bal.reshape(X_test_bal.shape[0],X_test_bal.shape[1],1)\n",
        "x_validation_bal_reshaped = X_validation_bal.reshape(X_validation_bal.shape[0],X_validation_bal.shape[1],1)"
      ],
      "execution_count": 22,
      "outputs": []
    },
    {
      "cell_type": "code",
      "metadata": {
        "colab": {
          "base_uri": "https://localhost:8080/"
        },
        "id": "7gAok1V9OuOZ",
        "outputId": "8159309b-553c-498b-bab5-d2d91b8054a1"
      },
      "source": [
        "model_conv1D = build_conv1D_model()\n",
        "history = model_conv1D.fit(x_train_bal_reshaped, y_train_bal, epochs=10,\n",
        "                    validation_data = (x_validation_bal_reshaped, y_validation_bal),callbacks = [Es])\n"
      ],
      "execution_count": 23,
      "outputs": [
        {
          "output_type": "stream",
          "text": [
            "Epoch 1/10\n",
            "46131/46131 [==============================] - 315s 7ms/step - loss: 14.0595 - acc: 0.7959 - val_loss: 0.2808 - val_acc: 0.8764\n",
            "Epoch 2/10\n",
            "46131/46131 [==============================] - 337s 7ms/step - loss: 0.2897 - acc: 0.8715 - val_loss: 0.2585 - val_acc: 0.8840\n",
            "Epoch 3/10\n",
            "46131/46131 [==============================] - 329s 7ms/step - loss: 0.2828 - acc: 0.8747 - val_loss: 0.2587 - val_acc: 0.8834\n",
            "Epoch 4/10\n",
            "46131/46131 [==============================] - 329s 7ms/step - loss: 0.2805 - acc: 0.8733 - val_loss: 0.2519 - val_acc: 0.8889\n",
            "Epoch 5/10\n",
            "46131/46131 [==============================] - 329s 7ms/step - loss: 0.2730 - acc: 0.8769 - val_loss: 0.2554 - val_acc: 0.8808\n",
            "Epoch 6/10\n",
            "46131/46131 [==============================] - 330s 7ms/step - loss: 0.2764 - acc: 0.8745 - val_loss: 0.2495 - val_acc: 0.8855\n",
            "Epoch 7/10\n",
            "46131/46131 [==============================] - 331s 7ms/step - loss: 0.2752 - acc: 0.8762 - val_loss: 0.2591 - val_acc: 0.8830\n",
            "Epoch 8/10\n",
            "46131/46131 [==============================] - 329s 7ms/step - loss: 0.2826 - acc: 0.8763 - val_loss: 0.2504 - val_acc: 0.8856\n"
          ],
          "name": "stdout"
        }
      ]
    },
    {
      "cell_type": "code",
      "metadata": {
        "colab": {
          "base_uri": "https://localhost:8080/"
        },
        "id": "I3m8WKh3ZU_O",
        "outputId": "614f5c58-2f83-4c25-fbc5-9228304df8ff"
      },
      "source": [
        "print(\"The testing accuracy is:\", model_conv1D.evaluate(x_test_bal_reshaped, y_test_bal))"
      ],
      "execution_count": 24,
      "outputs": [
        {
          "output_type": "stream",
          "text": [
            "44142/44142 [==============================] - 82s 2ms/step - loss: 0.3100 - acc: 0.8485\n",
            "The testing accuracy is: [0.3100346624851227, 0.8484963178634644]\n"
          ],
          "name": "stdout"
        }
      ]
    },
    {
      "cell_type": "code",
      "metadata": {
        "colab": {
          "base_uri": "https://localhost:8080/",
          "height": 295
        },
        "id": "nfHmBJVYPuwc",
        "outputId": "31af2ab4-b928-43dc-a51c-b54e28b87901"
      },
      "source": [
        "#AUC_ROC\n",
        "import sklearn.metrics as metrics\n",
        "# calculate the fpr and tpr for all thresholds of the classification\n",
        "pred = model_conv1D.predict(x_test_bal_reshaped)\n",
        "fpr, tpr, threshold = metrics.roc_curve(y_test_bal, pred)\n",
        "roc_auc = metrics.auc(fpr, tpr)\n",
        "\n",
        "import matplotlib.pyplot as plt\n",
        "plt.title('Receiver Operating Characteristic')\n",
        "plt.plot(fpr, tpr, 'b', label = 'AUC = %0.2f' % roc_auc)\n",
        "plt.legend(loc = 'lower right')\n",
        "plt.plot([0, 1], [0, 1],'r--')\n",
        "plt.xlim([0, 1])\n",
        "plt.ylim([0, 1])\n",
        "plt.ylabel('True Positive Rate')\n",
        "plt.xlabel('False Positive Rate')\n",
        "plt.show()"
      ],
      "execution_count": 25,
      "outputs": [
        {
          "output_type": "display_data",
          "data": {
            "image/png": "[encoded data removed]",
            "text/plain": [
              "<Figure size 432x288 with 1 Axes>"
            ]
          },
          "metadata": {
            "tags": [],
            "needs_background": "light"
          }
        }
      ]
    },
    {
      "cell_type": "markdown",
      "metadata": {
        "id": "xU4uGEJsHd3n"
      },
      "source": [
        "##Applying Undersampling"
      ]
    },
    {
      "cell_type": "code",
      "metadata": {
        "id": "43IsJnmnHjHh"
      },
      "source": [
        "x_train_bal = train.drop('loan_status',axis =1)\n",
        "x_test_bal = test.drop('loan_status',axis =1)\n",
        "x_validation_bal = validation.drop('loan_status',axis =1)\n",
        "\n",
        "y_train_bal = train['loan_status']\n",
        "y_test_bal = test['loan_status']\n",
        "y_validation_bal = validation['loan_status']"
      ],
      "execution_count": 18,
      "outputs": []
    },
    {
      "cell_type": "code",
      "metadata": {
        "id": "NH1dsUIE6maX"
      },
      "source": [
        "from imblearn.under_sampling import RandomUnderSampler \n"
      ],
      "execution_count": 20,
      "outputs": []
    },
    {
      "cell_type": "code",
      "metadata": {
        "colab": {
          "base_uri": "https://localhost:8080/"
        },
        "id": "KcmYbrt4HjKn",
        "outputId": "8bf12ca0-4795-4ec0-c641-464dddff2fbc"
      },
      "source": [
        "print(\"Before UnderSampling, counts of label '1': {}\".format(sum(y_train_bal==1)))\n",
        "print(\"Before UnderSampling, counts of label '0': {} \\n\".format(sum(y_train_bal==0)))\n",
        "\n",
        "rus = RandomUnderSampler(random_state=42)\n",
        "X_train_bal, y_train_bal = rus.fit_resample(x_train_bal, y_train_bal.ravel())\n",
        "\n",
        "print('After UnderSampling, the shape of train_X: {}'.format(x_train_bal.shape))\n",
        "print('After UnderSampling, the shape of train_y: {} \\n'.format(y_train_bal.shape))\n",
        "\n",
        "print(\"After UnderSampling, counts of label '1': {}\".format(sum(y_train_bal==1)))\n",
        "print(\"After UnderSampling, counts of label '0': {}\".format(sum(y_train_bal==0)))"
      ],
      "execution_count": 21,
      "outputs": [
        {
          "output_type": "stream",
          "text": [
            "Before UnderSampling, counts of label '1': 52937\n",
            "Before UnderSampling, counts of label '0': 738087 \n",
            "\n"
          ],
          "name": "stdout"
        },
        {
          "output_type": "stream",
          "text": [
            "/usr/local/lib/python3.6/dist-packages/sklearn/utils/deprecation.py:87: FutureWarning: Function safe_indexing is deprecated; safe_indexing is deprecated in version 0.22 and will be removed in version 0.24.\n",
            "  warnings.warn(msg, category=FutureWarning)\n"
          ],
          "name": "stderr"
        },
        {
          "output_type": "stream",
          "text": [
            "After UnderSampling, the shape of train_X: (791024, 41)\n",
            "After UnderSampling, the shape of train_y: (105874,) \n",
            "\n",
            "After UnderSampling, counts of label '1': 52937\n",
            "After UnderSampling, counts of label '0': 52937\n"
          ],
          "name": "stdout"
        }
      ]
    },
    {
      "cell_type": "code",
      "metadata": {
        "colab": {
          "base_uri": "https://localhost:8080/"
        },
        "id": "5Vdl7SMCHjO0",
        "outputId": "b82e7fd1-551d-448e-e1b6-bc05e13e8422"
      },
      "source": [
        "print(\"Before OverSampling, counts of label '1': {}\".format(sum(y_test_bal==1)))\n",
        "print(\"Before OverSampling, counts of label '0': {} \\n\".format(sum(y_test_bal==0)))\n",
        "\n",
        "rus = RandomUnderSampler(random_state=42)\n",
        "X_test_bal, y_test_bal = rus.fit_resample(x_test_bal, y_test_bal.ravel())\n",
        "\n",
        "print('After OverSampling, the shape of train_X: {}'.format(x_test_bal.shape))\n",
        "print('After OverSampling, the shape of train_y: {} \\n'.format(y_test_bal.shape))\n",
        "\n",
        "print(\"After OverSampling, counts of label '1': {}\".format(sum(y_test_bal==1)))\n",
        "print(\"After OverSampling, counts of label '0': {}\".format(sum(y_test_bal==0)))"
      ],
      "execution_count": 23,
      "outputs": [
        {
          "output_type": "stream",
          "text": [
            "Before OverSampling, counts of label '1': 52564\n",
            "Before OverSampling, counts of label '0': 706270 \n",
            "\n"
          ],
          "name": "stdout"
        },
        {
          "output_type": "stream",
          "text": [
            "/usr/local/lib/python3.6/dist-packages/sklearn/utils/deprecation.py:87: FutureWarning: Function safe_indexing is deprecated; safe_indexing is deprecated in version 0.22 and will be removed in version 0.24.\n",
            "  warnings.warn(msg, category=FutureWarning)\n"
          ],
          "name": "stderr"
        },
        {
          "output_type": "stream",
          "text": [
            "After OverSampling, the shape of train_X: (758834, 41)\n",
            "After OverSampling, the shape of train_y: (105128,) \n",
            "\n",
            "After OverSampling, counts of label '1': 52564\n",
            "After OverSampling, counts of label '0': 52564\n"
          ],
          "name": "stdout"
        }
      ]
    },
    {
      "cell_type": "code",
      "metadata": {
        "colab": {
          "base_uri": "https://localhost:8080/"
        },
        "id": "FPBb1x7qHjRB",
        "outputId": "5fafc1cb-10ed-4113-97e8-2c87491060f9"
      },
      "source": [
        "print(\"Before OverSampling, counts of label '1': {}\".format(sum(y_validation_bal==1)))\n",
        "print(\"Before OverSampling, counts of label '0': {} \\n\".format(sum(y_validation_bal==0)))\n",
        "\n",
        "rus = RandomUnderSampler(random_state=42)\n",
        "X_validation_bal, y_validation_bal = rus.fit_resample(x_validation_bal, y_validation_bal.ravel())\n",
        "\n",
        "print('After OverSampling, the shape of train_X: {}'.format(x_validation_bal.shape))\n",
        "print('After OverSampling, the shape of train_y: {} \\n'.format(y_validation_bal.shape))\n",
        "\n",
        "print(\"After OverSampling, counts of label '1': {}\".format(sum(y_validation_bal==1)))\n",
        "print(\"After OverSampling, counts of label '0': {}\".format(sum(y_validation_bal==0)))"
      ],
      "execution_count": 24,
      "outputs": [
        {
          "output_type": "stream",
          "text": [
            "Before OverSampling, counts of label '1': 5882\n",
            "Before OverSampling, counts of label '0': 82010 \n",
            "\n",
            "After OverSampling, the shape of train_X: (87892, 41)\n",
            "After OverSampling, the shape of train_y: (11764,) \n",
            "\n",
            "After OverSampling, counts of label '1': 5882\n",
            "After OverSampling, counts of label '0': 5882\n"
          ],
          "name": "stdout"
        },
        {
          "output_type": "stream",
          "text": [
            "/usr/local/lib/python3.6/dist-packages/sklearn/utils/deprecation.py:87: FutureWarning: Function safe_indexing is deprecated; safe_indexing is deprecated in version 0.22 and will be removed in version 0.24.\n",
            "  warnings.warn(msg, category=FutureWarning)\n"
          ],
          "name": "stderr"
        }
      ]
    },
    {
      "cell_type": "code",
      "metadata": {
        "id": "tYJXmnCx78AO"
      },
      "source": [
        "x_train_bal_reshaped = X_train_bal.reshape(X_train_bal.shape[0],X_train_bal.shape[1],1)\n",
        "x_test_bal_reshaped = X_test_bal.reshape(X_test_bal.shape[0],X_test_bal.shape[1],1)\n",
        "x_validation_bal_reshaped = X_validation_bal.reshape(X_validation_bal.shape[0],X_validation_bal.shape[1],1)"
      ],
      "execution_count": 25,
      "outputs": []
    },
    {
      "cell_type": "code",
      "metadata": {
        "colab": {
          "base_uri": "https://localhost:8080/"
        },
        "id": "-IavHZur8Bhe",
        "outputId": "cd6e7aa1-daba-44f0-d9f9-5ee19c98f22a"
      },
      "source": [
        "model_conv1D = build_conv1D_model()\n",
        "history = model_conv1D.fit(x_train_bal_reshaped, y_train_bal, epochs=10,\n",
        "                    validation_data = (x_validation_bal_reshaped, y_validation_bal),callbacks = [Es])\n"
      ],
      "execution_count": 26,
      "outputs": [
        {
          "output_type": "stream",
          "text": [
            "Epoch 1/10\n",
            "3309/3309 [==============================] - 26s 8ms/step - loss: 114.8748 - acc: 0.6470 - val_loss: 0.4935 - val_acc: 0.7801\n",
            "Epoch 2/10\n",
            "3309/3309 [==============================] - 25s 8ms/step - loss: 0.9238 - acc: 0.7129 - val_loss: 0.4446 - val_acc: 0.8187\n",
            "Epoch 3/10\n",
            "3309/3309 [==============================] - 25s 8ms/step - loss: 0.5286 - acc: 0.7759 - val_loss: 0.4574 - val_acc: 0.8246\n",
            "Epoch 4/10\n",
            "3309/3309 [==============================] - 26s 8ms/step - loss: 0.4402 - acc: 0.8221 - val_loss: 0.3206 - val_acc: 0.8666\n",
            "Epoch 5/10\n",
            "3309/3309 [==============================] - 26s 8ms/step - loss: 0.3337 - acc: 0.8616 - val_loss: 0.3065 - val_acc: 0.8674\n",
            "Epoch 6/10\n",
            "3309/3309 [==============================] - 25s 8ms/step - loss: 0.3282 - acc: 0.8605 - val_loss: 0.2931 - val_acc: 0.8744\n",
            "Epoch 7/10\n",
            "3309/3309 [==============================] - 25s 8ms/step - loss: 0.3198 - acc: 0.8632 - val_loss: 0.2863 - val_acc: 0.8752\n",
            "Epoch 8/10\n",
            "3309/3309 [==============================] - 25s 8ms/step - loss: 0.3048 - acc: 0.8699 - val_loss: 0.2926 - val_acc: 0.8731\n",
            "Epoch 9/10\n",
            "3309/3309 [==============================] - 26s 8ms/step - loss: 0.3101 - acc: 0.8675 - val_loss: 0.2948 - val_acc: 0.8720\n"
          ],
          "name": "stdout"
        }
      ]
    },
    {
      "cell_type": "code",
      "metadata": {
        "colab": {
          "base_uri": "https://localhost:8080/"
        },
        "id": "8K2y6DZ-8EGx",
        "outputId": "10c34f3e-435b-4f88-dee5-521c483272ac"
      },
      "source": [
        "print(\"The testing accuracy is:\", model_conv1D.evaluate(x_test_bal_reshaped, y_test_bal))"
      ],
      "execution_count": 27,
      "outputs": [
        {
          "output_type": "stream",
          "text": [
            "3286/3286 [==============================] - 8s 2ms/step - loss: 0.3205 - acc: 0.8516\n",
            "The testing accuracy is: [0.3204999566078186, 0.8515619039535522]\n"
          ],
          "name": "stdout"
        }
      ]
    },
    {
      "cell_type": "code",
      "metadata": {
        "colab": {
          "base_uri": "https://localhost:8080/",
          "height": 295
        },
        "id": "0K_3q2xMJGZt",
        "outputId": "bae3ba70-2d27-4d25-8a78-ae5bdc1817bf"
      },
      "source": [
        "#AUC_ROC\n",
        "import sklearn.metrics as metrics\n",
        "# calculate the fpr and tpr for all thresholds of the classification\n",
        "pred = model_conv1D.predict(x_test_bal_reshaped)\n",
        "fpr, tpr, threshold = metrics.roc_curve(y_test_bal, pred)\n",
        "roc_auc = metrics.auc(fpr, tpr)\n",
        "\n",
        "import matplotlib.pyplot as plt\n",
        "plt.title('Receiver Operating Characteristic')\n",
        "plt.plot(fpr, tpr, 'b', label = 'AUC = %0.2f' % roc_auc)\n",
        "plt.legend(loc = 'lower right')\n",
        "plt.plot([0, 1], [0, 1],'r--')\n",
        "plt.xlim([0, 1])\n",
        "plt.ylim([0, 1])\n",
        "plt.ylabel('True Positive Rate')\n",
        "plt.xlabel('False Positive Rate')\n",
        "plt.show()"
      ],
      "execution_count": 34,
      "outputs": [
        {
          "output_type": "display_data",
          "data": {
            "image/png": "[encoded data removed]",
            "text/plain": [
              "<Figure size 432x288 with 1 Axes>"
            ]
          },
          "metadata": {
            "tags": [],
            "needs_background": "light"
          }
        }
      ]
    }
  ]
}